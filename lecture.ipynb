{
 "cells": [
  {
   "cell_type": "code",
   "execution_count": 2,
   "metadata": {},
   "outputs": [],
   "source": [
    "import pandas as pd\n",
    "import matplotlib.pyplot as plt\n",
    "import numpy as np"
   ]
  },
  {
   "cell_type": "code",
   "execution_count": 3,
   "metadata": {},
   "outputs": [],
   "source": [
    "def str_to_float(number):\n",
    "    num = number.split(',')\n",
    "    if len(num)==1 :\n",
    "        return float(num[0])\n",
    "    else :\n",
    "        return (float(num[0]+'.'+num[1]))\n",
    "\n",
    "str_to_float_v = np.vectorize(str_to_float)"
   ]
  },
  {
   "cell_type": "code",
   "execution_count": 4,
   "metadata": {},
   "outputs": [],
   "source": [
    "def new_name(path,ext):\n",
    "    componants = path.split(\"\\\\\")\n",
    "    name = componants[-1]\n",
    "    name2 = name[:-4]\n",
    "    return (name2 + \".\" + ext)"
   ]
  },
  {
   "cell_type": "code",
   "execution_count": 21,
   "metadata": {},
   "outputs": [],
   "source": [
    "def create_data(path):\n",
    "    data = pd.read_csv(path, index_col=\"Bal\", delimiter=\";\")\n",
    "    columns = data.columns\n",
    "    data_to_plot = columns[2]\n",
    "    val = str_to_float_v(data[data_to_plot].values)\n",
    "    x = np.arange(0,len(val))\n",
    "    return x,data_to_plot,val"
   ]
  },
  {
   "cell_type": "code",
   "execution_count": 22,
   "metadata": {},
   "outputs": [],
   "source": [
    "def plot_csv(path):\n",
    "    x,data_to_plot,val = create_data(path)\n",
    "\n",
    "    plt.figure()\n",
    "    plt.plot(val)\n",
    "    plt.xlabel(\"Balayage\")\n",
    "    plt.ylabel(data_to_plot)\n",
    "    plt.grid()\n",
    "    plt.savefig('Plot\\\\'+new_name(path,'png'))\n",
    "    plt.show()"
   ]
  },
  {
   "cell_type": "code",
   "execution_count": 46,
   "metadata": {},
   "outputs": [
    {
     "data": {
      "image/png": "[encoded data removed]",
      "text/plain": [
       "<Figure size 640x480 with 1 Axes>"
      ]
     },
     "metadata": {},
     "output_type": "display_data"
    }
   ],
   "source": [
    "plot_csv(\"Data\\\\Calne.csv\")"
   ]
  },
  {
   "cell_type": "code",
   "execution_count": 7,
   "metadata": {},
   "outputs": [],
   "source": [
    "def detect_stable_stage(path, precision=0.1, window_size=100, plot=False) :\n",
    "    data = pd.read_csv(path, index_col='Bal', delimiter=';')\n",
    "    data_of_interest = data.columns[2]\n",
    "    values = str_to_float_v(data[data_of_interest].values)\n",
    "\n",
    "    n = len(values)\n",
    "    variances = np.empty(n-window_size)\n",
    "    means = np.empty(n-window_size)\n",
    "\n",
    "    # print(values)\n",
    "    \n",
    "    for i in range(n - window_size):\n",
    "        window_data = values[i:i+window_size]\n",
    "        var = np.var(window_data)\n",
    "        mean = np.mean(window_data)\n",
    "        variances[i] = var\n",
    "        means[i] = mean\n",
    "        \n",
    "    points_stage = np.where(variances < precision)[0]\n",
    "    points_stage_by_stage = np.split(points_stage, np.where(np.diff(points_stage) != 1)[0]+1)\n",
    "    nb_stages = len(points_stage_by_stage)\n",
    "    # print(nb_stages)\n",
    "    stages_matrix = np.empty((nb_stages,4))\n",
    "    # print(np.amin(points_stage_by_stage, axis=1))\n",
    "    stages_matrix[:,0] = list(map(min,points_stage_by_stage))\n",
    "    stages_matrix[:,1] = list(map(max,points_stage_by_stage))\n",
    "    stages_matrix[:,2] = means[stages_matrix[:,0].astype(int)]\n",
    "    stages_matrix[:,3] = variances[stages_matrix[:,0].astype(int)]\n",
    "\n",
    "    if plot :\n",
    "        plt.plot(variances)\n",
    "        plt.plot([precision]*(n-window_size),'r')\n",
    "    return stages_matrix"
   ]
  },
  {
   "cell_type": "code",
   "execution_count": 8,
   "metadata": {},
   "outputs": [
    {
     "data": {
      "text/plain": [
       "array([[0.00000000e+00, 5.23410000e+04, 8.24687781e+01, 6.58241675e-04],\n",
       "       [5.23570000e+04, 6.68390000e+04, 8.08255074e+01, 3.40174514e-02],\n",
       "       [6.68530000e+04, 8.22000000e+04, 8.56636978e+01, 3.59065140e-02],\n",
       "       [8.22070000e+04, 8.95200000e+04, 9.58402459e+01, 3.67602399e-02],\n",
       "       [8.95270000e+04, 9.96940000e+04, 1.01113859e+02, 4.79770374e-02],\n",
       "       [9.97050000e+04, 9.97160000e+04, 1.04990020e+02, 1.81133583e-02],\n",
       "       [9.97380000e+04, 9.97490000e+04, 1.08537988e+02, 2.99018561e-02],\n",
       "       [9.97550000e+04, 1.00093000e+05, 1.07775965e+02, 4.77568513e-02],\n",
       "       [1.00102000e+05, 1.23569000e+05, 1.07659630e+02, 1.67135857e-02],\n",
       "       [1.23575000e+05, 1.29995000e+05, 1.08096786e+02, 4.59158693e-02],\n",
       "       [1.30002000e+05, 1.49995000e+05, 1.12131479e+02, 4.09565518e-02]])"
      ]
     },
     "execution_count": 8,
     "metadata": {},
     "output_type": "execute_result"
    }
   ],
   "source": [
    "detect_stable_stage(\"Data\\S5_15bar_77K.csv\",precision=0.05,window_size=10)"
   ]
  },
  {
   "cell_type": "code",
   "execution_count": 9,
   "metadata": {},
   "outputs": [],
   "source": [
    "def stables_stage_csv(path, precision=0.1, window_size=100):\n",
    "    stages_matrix = detect_stable_stage(path, precision, window_size)\n",
    "    nb_stages = len(stages_matrix)\n",
    "    ind = np.arange(nb_stages)\n",
    "    df = pd.DataFrame(stages_matrix, index=ind, columns=['Debut','Fin','Moyenne','Variance'])\n",
    "    df.to_csv('Plot\\\\mat_'+new_name(path,'csv'))\n",
    "    return df"
   ]
  },
  {
   "cell_type": "code",
   "execution_count": 10,
   "metadata": {},
   "outputs": [
    {
     "data": {
      "text/html": [
       "<div>\n",
       "<style scoped>\n",
       "    .dataframe tbody tr th:only-of-type {\n",
       "        vertical-align: middle;\n",
       "    }\n",
       "\n",
       "    .dataframe tbody tr th {\n",
       "        vertical-align: top;\n",
       "    }\n",
       "\n",
       "    .dataframe thead th {\n",
       "        text-align: right;\n",
       "    }\n",
       "</style>\n",
       "<table border=\"1\" class=\"dataframe\">\n",
       "  <thead>\n",
       "    <tr style=\"text-align: right;\">\n",
       "      <th></th>\n",
       "      <th>Debut</th>\n",
       "      <th>Fin</th>\n",
       "      <th>Moyenne</th>\n",
       "      <th>Variance</th>\n",
       "    </tr>\n",
       "  </thead>\n",
       "  <tbody>\n",
       "    <tr>\n",
       "      <th>0</th>\n",
       "      <td>0.0</td>\n",
       "      <td>1504.0</td>\n",
       "      <td>19.932160</td>\n",
       "      <td>8.497344e-04</td>\n",
       "    </tr>\n",
       "    <tr>\n",
       "      <th>1</th>\n",
       "      <td>2613.0</td>\n",
       "      <td>5106.0</td>\n",
       "      <td>0.228577</td>\n",
       "      <td>4.904633e-02</td>\n",
       "    </tr>\n",
       "    <tr>\n",
       "      <th>2</th>\n",
       "      <td>6213.0</td>\n",
       "      <td>8709.0</td>\n",
       "      <td>-19.688857</td>\n",
       "      <td>4.923069e-02</td>\n",
       "    </tr>\n",
       "    <tr>\n",
       "      <th>3</th>\n",
       "      <td>9805.0</td>\n",
       "      <td>12317.0</td>\n",
       "      <td>-39.566693</td>\n",
       "      <td>4.956794e-02</td>\n",
       "    </tr>\n",
       "    <tr>\n",
       "      <th>4</th>\n",
       "      <td>13451.0</td>\n",
       "      <td>19528.0</td>\n",
       "      <td>-59.407890</td>\n",
       "      <td>4.966164e-02</td>\n",
       "    </tr>\n",
       "    <tr>\n",
       "      <th>5</th>\n",
       "      <td>20913.0</td>\n",
       "      <td>26790.0</td>\n",
       "      <td>-79.126290</td>\n",
       "      <td>4.931640e-02</td>\n",
       "    </tr>\n",
       "    <tr>\n",
       "      <th>6</th>\n",
       "      <td>29344.0</td>\n",
       "      <td>34591.0</td>\n",
       "      <td>-93.180327</td>\n",
       "      <td>4.990832e-02</td>\n",
       "    </tr>\n",
       "    <tr>\n",
       "      <th>7</th>\n",
       "      <td>35348.0</td>\n",
       "      <td>41782.0</td>\n",
       "      <td>-89.707383</td>\n",
       "      <td>4.983086e-02</td>\n",
       "    </tr>\n",
       "    <tr>\n",
       "      <th>8</th>\n",
       "      <td>42492.0</td>\n",
       "      <td>48966.0</td>\n",
       "      <td>-69.791307</td>\n",
       "      <td>4.909813e-02</td>\n",
       "    </tr>\n",
       "    <tr>\n",
       "      <th>9</th>\n",
       "      <td>49592.0</td>\n",
       "      <td>56162.0</td>\n",
       "      <td>-49.900357</td>\n",
       "      <td>4.952034e-02</td>\n",
       "    </tr>\n",
       "    <tr>\n",
       "      <th>10</th>\n",
       "      <td>56761.0</td>\n",
       "      <td>59119.0</td>\n",
       "      <td>-30.008437</td>\n",
       "      <td>4.941847e-02</td>\n",
       "    </tr>\n",
       "    <tr>\n",
       "      <th>11</th>\n",
       "      <td>59714.0</td>\n",
       "      <td>62342.0</td>\n",
       "      <td>-10.092293</td>\n",
       "      <td>4.847561e-02</td>\n",
       "    </tr>\n",
       "    <tr>\n",
       "      <th>12</th>\n",
       "      <td>62642.0</td>\n",
       "      <td>65381.0</td>\n",
       "      <td>-195.750777</td>\n",
       "      <td>2.801222e-07</td>\n",
       "    </tr>\n",
       "  </tbody>\n",
       "</table>\n",
       "</div>"
      ],
      "text/plain": [
       "      Debut      Fin     Moyenne      Variance\n",
       "0       0.0   1504.0   19.932160  8.497344e-04\n",
       "1    2613.0   5106.0    0.228577  4.904633e-02\n",
       "2    6213.0   8709.0  -19.688857  4.923069e-02\n",
       "3    9805.0  12317.0  -39.566693  4.956794e-02\n",
       "4   13451.0  19528.0  -59.407890  4.966164e-02\n",
       "5   20913.0  26790.0  -79.126290  4.931640e-02\n",
       "6   29344.0  34591.0  -93.180327  4.990832e-02\n",
       "7   35348.0  41782.0  -89.707383  4.983086e-02\n",
       "8   42492.0  48966.0  -69.791307  4.909813e-02\n",
       "9   49592.0  56162.0  -49.900357  4.952034e-02\n",
       "10  56761.0  59119.0  -30.008437  4.941847e-02\n",
       "11  59714.0  62342.0  -10.092293  4.847561e-02\n",
       "12  62642.0  65381.0 -195.750777  2.801222e-07"
      ]
     },
     "execution_count": 10,
     "metadata": {},
     "output_type": "execute_result"
    }
   ],
   "source": [
    "stables_stage_csv(\"Data\\Calne.csv\",precision=0.05,window_size=300)"
   ]
  },
  {
   "cell_type": "code",
   "execution_count": 11,
   "metadata": {},
   "outputs": [],
   "source": [
    "def stables_stage_list(path, precision=0.1, window_size=100):\n",
    "    stages_matrix = detect_stable_stage(path, precision, window_size)\n",
    "    nb_stages = len(stages_matrix)\n",
    "    duree = stages_matrix[:,1] - stages_matrix[:,0]\n",
    "    mean = stages_matrix[:,2]\n",
    "    return list(zip(duree,mean))"
   ]
  },
  {
   "cell_type": "code",
   "execution_count": 12,
   "metadata": {},
   "outputs": [
    {
     "data": {
      "text/plain": [
       "[(1504.0, 19.932159999999996),\n",
       " (2493.0, 0.22857666666666665),\n",
       " (2496.0, -19.68885666666667),\n",
       " (2512.0, -39.56669333333334),\n",
       " (6077.0, -59.40789000000001),\n",
       " (5877.0, -79.12629),\n",
       " (5247.0, -93.18032666666666),\n",
       " (6434.0, -89.70738333333334),\n",
       " (6474.0, -69.79130666666669),\n",
       " (6570.0, -49.90035666666667),\n",
       " (2358.0, -30.008436666666665),\n",
       " (2628.0, -10.092293333333334),\n",
       " (2739.0, -195.75077666666664)]"
      ]
     },
     "execution_count": 12,
     "metadata": {},
     "output_type": "execute_result"
    }
   ],
   "source": [
    "stables_stage_list(\"Data\\Calne.csv\",precision=0.05,window_size=300)"
   ]
  },
  {
   "cell_type": "code",
   "execution_count": 36,
   "metadata": {},
   "outputs": [],
   "source": [
    "def polynomial_interpolation(x, y, degree):\n",
    "    \"\"\"Interpolate a polynomial of given degree through the given points.\n",
    "    \"\"\"\n",
    "    poly = np.polynomial.polynomial.Polynomial.fit(x, y, degree)\n",
    "    return poly"
   ]
  },
  {
   "cell_type": "code",
   "execution_count": 42,
   "metadata": {},
   "outputs": [
    {
     "name": "stdout",
     "output_type": "stream",
     "text": [
      "-79.28135033618328 + 44.114488072773575 x**1 + 50.240389315674484 x**2 -\n",
      "125.42328547608578 x**3\n"
     ]
    },
    {
     "data": {
      "text/plain": [
       "52.24149024478466"
      ]
     },
     "execution_count": 42,
     "metadata": {},
     "output_type": "execute_result"
    }
   ],
   "source": [
    "x,name,y = create_data(\"Data\\Calne.csv\")\n",
    "p = polynomial_interpolation(x,y,3)\n",
    "print(p)\n",
    "p(2)"
   ]
  },
  {
   "cell_type": "code",
   "execution_count": 50,
   "metadata": {},
   "outputs": [
    {
     "data": {
      "image/png": "[encoded data removed]",
      "text/plain": [
       "<Figure size 640x480 with 1 Axes>"
      ]
     },
     "metadata": {},
     "output_type": "display_data"
    }
   ],
   "source": [
    "x,name,y = create_data(\"Data\\Calne.csv\")\n",
    "plt.figure()\n",
    "x_corrected = x[0:60000]\n",
    "y_corrected = y[0:60000]\n",
    "plt.plot(x_corrected,y_corrected)\n",
    "p = polynomial_interpolation(x_corrected,y_corrected,2)\n",
    "z = p(x_corrected)\n",
    "plt.plot(x_corrected,z)\n",
    "plt.grid()\n",
    "plt.show()\n"
   ]
  },
  {
   "cell_type": "code",
   "execution_count": 18,
   "metadata": {},
   "outputs": [],
   "source": [
    "def linear_interpolation(x, y):\n",
    "    \"\"\"Interpolate a linear function through the given points.\n",
    "    \"\"\"\n",
    "    coeffs = np.polyfit(x, y, 1)\n",
    "    return np.poly1d(coeffs)"
   ]
  }
 ],
 "metadata": {
  "kernelspec": {
   "display_name": "Python 3.9.12 ('base')",
   "language": "python",
   "name": "python3"
  },
  "language_info": {
   "codemirror_mode": {
    "name": "ipython",
    "version": 3
   },
   "file_extension": ".py",
   "mimetype": "text/x-python",
   "name": "python",
   "nbconvert_exporter": "python",
   "pygments_lexer": "ipython3",
   "version": "3.9.12"
  },
  "orig_nbformat": 4,
  "vscode": {
   "interpreter": {
    "hash": "2172913d4612856e3bbc325c0b7fb332e765f63a52fed726fb1f267ce3eabcc0"
   }
  }
 },
 "nbformat": 4,
 "nbformat_minor": 2
}
